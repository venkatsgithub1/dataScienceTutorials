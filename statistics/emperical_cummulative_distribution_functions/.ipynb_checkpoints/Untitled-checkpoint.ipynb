{
 "cells": [
  {
   "cell_type": "code",
   "execution_count": 4,
   "metadata": {},
   "outputs": [
    {
     "name": "stdout",
     "output_type": "stream",
     "text": [
      "   sepal length (cm)  sepal width (cm)  petal length (cm)  petal width (cm)  \\\n",
      "0                5.1               3.5                1.4               0.2   \n",
      "1                4.9               3.0                1.4               0.2   \n",
      "2                4.7               3.2                1.3               0.2   \n",
      "3                4.6               3.1                1.5               0.2   \n",
      "4                5.0               3.6                1.4               0.2   \n",
      "\n",
      "   target species  \n",
      "0     0.0  setosa  \n",
      "1     0.0  setosa  \n",
      "2     0.0  setosa  \n",
      "3     0.0  setosa  \n",
      "4     0.0  setosa  \n",
      "Index(['sepal length (cm)', 'sepal width (cm)', 'petal length (cm)',\n",
      "       'petal width (cm)', 'target', 'species'],\n",
      "      dtype='object')\n"
     ]
    },
    {
     "data": {
      "image/png": "[encoded data removed]",
      "text/plain": [
       "<Figure size 432x288 with 1 Axes>"
      ]
     },
     "metadata": {
      "needs_background": "light"
     },
     "output_type": "display_data"
    }
   ],
   "source": [
    "import numpy as np\n",
    "def ecdf(data):\n",
    "    # length of the data\n",
    "    n = len(data)\n",
    "\n",
    "    # sort the data (x)\n",
    "    x= np.sort(data)\n",
    "\n",
    "    # y-data\n",
    "    y = np.arange(1, n+1) / n\n",
    "\n",
    "    return x, y\n",
    "\n",
    "from sklearn.datasets import load_iris\n",
    "import pandas as pd\n",
    "import numpy as np\n",
    "import matplotlib.pyplot as plt\n",
    "%matplotlib inline\n",
    "\n",
    "iris = load_iris()\n",
    "df = pd.DataFrame(data=np.c_[iris.data, iris.target],\n",
    "                 columns=iris.feature_names+['target'])\n",
    "\n",
    "df['species']=df['target'].apply(lambda x:'setosa' if x==0 else('versicolor' if x==1 else 'virginica'))\n",
    "\n",
    "print(df.head())\n",
    "print(df.columns)\n",
    "\n",
    "versicolor_petal_length = df[df['species']=='versicolor'].loc[:,'petal length (cm)']\n",
    "setosa_petal_length = df[df['species']=='setosa'].loc[:,'petal length (cm)']\n",
    "virginica_petal_length = df[df['species']=='virginica'].loc[:,'petal length (cm)']\n",
    "\n",
    "x_vers, y_vers = ecdf(versicolor_petal_length)\n",
    "x_set, y_set = ecdf(setosa_petal_length)\n",
    "x_virg, y_virg = ecdf(virginica_petal_length)\n",
    "\n",
    "plt.plot(x_set, y_set, marker='.', linestyle='none')\n",
    "plt.plot(x_vers, y_vers, marker='.', linestyle='none')\n",
    "plt.plot(x_virg, y_virg, marker='.', linestyle='none')\n",
    "\n",
    "plt.legend(('setosa', 'versicolor', 'virginica'), loc='lower right')\n",
    "\n",
    "plt.xlabel('petal length (cm)')\n",
    "plt.ylabel('ECDF')\n",
    "\n",
    "plt.show()"
   ]
  },
  {
   "cell_type": "code",
   "execution_count": 2,
   "metadata": {},
   "outputs": [],
   "source": []
  }
 ],
 "metadata": {
  "kernelspec": {
   "display_name": "Python 3",
   "language": "python",
   "name": "python3"
  },
  "language_info": {
   "codemirror_mode": {
    "name": "ipython",
    "version": 3
   },
   "file_extension": ".py",
   "mimetype": "text/x-python",
   "name": "python",
   "nbconvert_exporter": "python",
   "pygments_lexer": "ipython3",
   "version": "3.7.3"
  }
 },
 "nbformat": 4,
 "nbformat_minor": 2
}
