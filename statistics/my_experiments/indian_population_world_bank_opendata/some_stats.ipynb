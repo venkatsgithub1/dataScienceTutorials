{
 "cells": [
  {
   "cell_type": "code",
   "execution_count": 1,
   "metadata": {},
   "outputs": [],
   "source": [
    "import numpy as np\n",
    "import pandas as pd\n",
    "from matplotlib import pyplot as plt\n",
    "%matplotlib inline\n",
    "import seaborn as sns"
   ]
  },
  {
   "cell_type": "code",
   "execution_count": 2,
   "metadata": {},
   "outputs": [],
   "source": [
    "sns.set()"
   ]
  },
  {
   "cell_type": "markdown",
   "metadata": {},
   "source": [
    "## Importing data using pandas read csv"
   ]
  },
  {
   "cell_type": "code",
   "execution_count": 3,
   "metadata": {},
   "outputs": [],
   "source": [
    "df = pd.read_csv('API_SP.POP.TOTL_DS2_en_csv_v2_103676.csv', skiprows=4)"
   ]
  },
  {
   "cell_type": "code",
   "execution_count": 4,
   "metadata": {},
   "outputs": [
    {
     "data": {
      "text/html": [
       "<div>\n",
       "<style scoped>\n",
       "    .dataframe tbody tr th:only-of-type {\n",
       "        vertical-align: middle;\n",
       "    }\n",
       "\n",
       "    .dataframe tbody tr th {\n",
       "        vertical-align: top;\n",
       "    }\n",
       "\n",
       "    .dataframe thead th {\n",
       "        text-align: right;\n",
       "    }\n",
       "</style>\n",
       "<table border=\"1\" class=\"dataframe\">\n",
       "  <thead>\n",
       "    <tr style=\"text-align: right;\">\n",
       "      <th></th>\n",
       "      <th>Country Name</th>\n",
       "      <th>Country Code</th>\n",
       "      <th>Indicator Name</th>\n",
       "      <th>Indicator Code</th>\n",
       "      <th>1960</th>\n",
       "      <th>1961</th>\n",
       "      <th>1962</th>\n",
       "      <th>1963</th>\n",
       "      <th>1964</th>\n",
       "      <th>1965</th>\n",
       "      <th>...</th>\n",
       "      <th>2010</th>\n",
       "      <th>2011</th>\n",
       "      <th>2012</th>\n",
       "      <th>2013</th>\n",
       "      <th>2014</th>\n",
       "      <th>2015</th>\n",
       "      <th>2016</th>\n",
       "      <th>2017</th>\n",
       "      <th>2018</th>\n",
       "      <th>Unnamed: 63</th>\n",
       "    </tr>\n",
       "  </thead>\n",
       "  <tbody>\n",
       "    <tr>\n",
       "      <th>0</th>\n",
       "      <td>Aruba</td>\n",
       "      <td>ABW</td>\n",
       "      <td>Population, total</td>\n",
       "      <td>SP.POP.TOTL</td>\n",
       "      <td>54211.0</td>\n",
       "      <td>55438.0</td>\n",
       "      <td>56225.0</td>\n",
       "      <td>56695.0</td>\n",
       "      <td>57032.0</td>\n",
       "      <td>57360.0</td>\n",
       "      <td>...</td>\n",
       "      <td>101669.0</td>\n",
       "      <td>102046.0</td>\n",
       "      <td>102560.0</td>\n",
       "      <td>103159.0</td>\n",
       "      <td>103774.0</td>\n",
       "      <td>104341.0</td>\n",
       "      <td>104872.0</td>\n",
       "      <td>105366.0</td>\n",
       "      <td>105845.0</td>\n",
       "      <td>NaN</td>\n",
       "    </tr>\n",
       "    <tr>\n",
       "      <th>1</th>\n",
       "      <td>Afghanistan</td>\n",
       "      <td>AFG</td>\n",
       "      <td>Population, total</td>\n",
       "      <td>SP.POP.TOTL</td>\n",
       "      <td>8996973.0</td>\n",
       "      <td>9169410.0</td>\n",
       "      <td>9351441.0</td>\n",
       "      <td>9543205.0</td>\n",
       "      <td>9744781.0</td>\n",
       "      <td>9956320.0</td>\n",
       "      <td>...</td>\n",
       "      <td>29185507.0</td>\n",
       "      <td>30117413.0</td>\n",
       "      <td>31161376.0</td>\n",
       "      <td>32269589.0</td>\n",
       "      <td>33370794.0</td>\n",
       "      <td>34413603.0</td>\n",
       "      <td>35383128.0</td>\n",
       "      <td>36296400.0</td>\n",
       "      <td>37172386.0</td>\n",
       "      <td>NaN</td>\n",
       "    </tr>\n",
       "    <tr>\n",
       "      <th>2</th>\n",
       "      <td>Angola</td>\n",
       "      <td>AGO</td>\n",
       "      <td>Population, total</td>\n",
       "      <td>SP.POP.TOTL</td>\n",
       "      <td>5454933.0</td>\n",
       "      <td>5531472.0</td>\n",
       "      <td>5608539.0</td>\n",
       "      <td>5679458.0</td>\n",
       "      <td>5735044.0</td>\n",
       "      <td>5770570.0</td>\n",
       "      <td>...</td>\n",
       "      <td>23356246.0</td>\n",
       "      <td>24220661.0</td>\n",
       "      <td>25107931.0</td>\n",
       "      <td>26015780.0</td>\n",
       "      <td>26941779.0</td>\n",
       "      <td>27884381.0</td>\n",
       "      <td>28842484.0</td>\n",
       "      <td>29816748.0</td>\n",
       "      <td>30809762.0</td>\n",
       "      <td>NaN</td>\n",
       "    </tr>\n",
       "    <tr>\n",
       "      <th>3</th>\n",
       "      <td>Albania</td>\n",
       "      <td>ALB</td>\n",
       "      <td>Population, total</td>\n",
       "      <td>SP.POP.TOTL</td>\n",
       "      <td>1608800.0</td>\n",
       "      <td>1659800.0</td>\n",
       "      <td>1711319.0</td>\n",
       "      <td>1762621.0</td>\n",
       "      <td>1814135.0</td>\n",
       "      <td>1864791.0</td>\n",
       "      <td>...</td>\n",
       "      <td>2913021.0</td>\n",
       "      <td>2905195.0</td>\n",
       "      <td>2900401.0</td>\n",
       "      <td>2895092.0</td>\n",
       "      <td>2889104.0</td>\n",
       "      <td>2880703.0</td>\n",
       "      <td>2876101.0</td>\n",
       "      <td>2873457.0</td>\n",
       "      <td>2866376.0</td>\n",
       "      <td>NaN</td>\n",
       "    </tr>\n",
       "    <tr>\n",
       "      <th>4</th>\n",
       "      <td>Andorra</td>\n",
       "      <td>AND</td>\n",
       "      <td>Population, total</td>\n",
       "      <td>SP.POP.TOTL</td>\n",
       "      <td>13411.0</td>\n",
       "      <td>14375.0</td>\n",
       "      <td>15370.0</td>\n",
       "      <td>16412.0</td>\n",
       "      <td>17469.0</td>\n",
       "      <td>18549.0</td>\n",
       "      <td>...</td>\n",
       "      <td>84449.0</td>\n",
       "      <td>83747.0</td>\n",
       "      <td>82427.0</td>\n",
       "      <td>80774.0</td>\n",
       "      <td>79213.0</td>\n",
       "      <td>78011.0</td>\n",
       "      <td>77297.0</td>\n",
       "      <td>77001.0</td>\n",
       "      <td>77006.0</td>\n",
       "      <td>NaN</td>\n",
       "    </tr>\n",
       "  </tbody>\n",
       "</table>\n",
       "<p>5 rows × 64 columns</p>\n",
       "</div>"
      ],
      "text/plain": [
       "  Country Name Country Code     Indicator Name Indicator Code       1960  \\\n",
       "0        Aruba          ABW  Population, total    SP.POP.TOTL    54211.0   \n",
       "1  Afghanistan          AFG  Population, total    SP.POP.TOTL  8996973.0   \n",
       "2       Angola          AGO  Population, total    SP.POP.TOTL  5454933.0   \n",
       "3      Albania          ALB  Population, total    SP.POP.TOTL  1608800.0   \n",
       "4      Andorra          AND  Population, total    SP.POP.TOTL    13411.0   \n",
       "\n",
       "        1961       1962       1963       1964       1965     ...       \\\n",
       "0    55438.0    56225.0    56695.0    57032.0    57360.0     ...        \n",
       "1  9169410.0  9351441.0  9543205.0  9744781.0  9956320.0     ...        \n",
       "2  5531472.0  5608539.0  5679458.0  5735044.0  5770570.0     ...        \n",
       "3  1659800.0  1711319.0  1762621.0  1814135.0  1864791.0     ...        \n",
       "4    14375.0    15370.0    16412.0    17469.0    18549.0     ...        \n",
       "\n",
       "         2010        2011        2012        2013        2014        2015  \\\n",
       "0    101669.0    102046.0    102560.0    103159.0    103774.0    104341.0   \n",
       "1  29185507.0  30117413.0  31161376.0  32269589.0  33370794.0  34413603.0   \n",
       "2  23356246.0  24220661.0  25107931.0  26015780.0  26941779.0  27884381.0   \n",
       "3   2913021.0   2905195.0   2900401.0   2895092.0   2889104.0   2880703.0   \n",
       "4     84449.0     83747.0     82427.0     80774.0     79213.0     78011.0   \n",
       "\n",
       "         2016        2017        2018  Unnamed: 63  \n",
       "0    104872.0    105366.0    105845.0          NaN  \n",
       "1  35383128.0  36296400.0  37172386.0          NaN  \n",
       "2  28842484.0  29816748.0  30809762.0          NaN  \n",
       "3   2876101.0   2873457.0   2866376.0          NaN  \n",
       "4     77297.0     77001.0     77006.0          NaN  \n",
       "\n",
       "[5 rows x 64 columns]"
      ]
     },
     "execution_count": 4,
     "metadata": {},
     "output_type": "execute_result"
    }
   ],
   "source": [
    "df.head()"
   ]
  },
  {
   "cell_type": "code",
   "execution_count": 5,
   "metadata": {},
   "outputs": [
    {
     "data": {
      "text/plain": [
       "64"
      ]
     },
     "execution_count": 5,
     "metadata": {},
     "output_type": "execute_result"
    }
   ],
   "source": [
    "len(df.columns)"
   ]
  },
  {
   "cell_type": "markdown",
   "metadata": {},
   "source": [
    "## Removing last unused column"
   ]
  },
  {
   "cell_type": "code",
   "execution_count": 6,
   "metadata": {},
   "outputs": [],
   "source": [
    "df=df.iloc[:,:63]"
   ]
  },
  {
   "cell_type": "code",
   "execution_count": 7,
   "metadata": {},
   "outputs": [
    {
     "data": {
      "text/plain": [
       "Index(['Country Name', 'Country Code', 'Indicator Name', 'Indicator Code',\n",
       "       '1960', '1961', '1962', '1963', '1964', '1965', '1966', '1967', '1968',\n",
       "       '1969', '1970', '1971', '1972', '1973', '1974', '1975', '1976', '1977',\n",
       "       '1978', '1979', '1980', '1981', '1982', '1983', '1984', '1985', '1986',\n",
       "       '1987', '1988', '1989', '1990', '1991', '1992', '1993', '1994', '1995',\n",
       "       '1996', '1997', '1998', '1999', '2000', '2001', '2002', '2003', '2004',\n",
       "       '2005', '2006', '2007', '2008', '2009', '2010', '2011', '2012', '2013',\n",
       "       '2014', '2015', '2016', '2017', '2018'],\n",
       "      dtype='object')"
      ]
     },
     "execution_count": 7,
     "metadata": {},
     "output_type": "execute_result"
    }
   ],
   "source": [
    "# checking columns\n",
    "df.columns"
   ]
  },
  {
   "cell_type": "markdown",
   "metadata": {},
   "source": [
    "## Now that data is cleaned, we can plot acquire data of India"
   ]
  },
  {
   "cell_type": "code",
   "execution_count": 8,
   "metadata": {},
   "outputs": [],
   "source": [
    "df_india = df[df['Country Name']=='India']"
   ]
  },
  {
   "cell_type": "code",
   "execution_count": 9,
   "metadata": {},
   "outputs": [
    {
     "data": {
      "text/html": [
       "<div>\n",
       "<style scoped>\n",
       "    .dataframe tbody tr th:only-of-type {\n",
       "        vertical-align: middle;\n",
       "    }\n",
       "\n",
       "    .dataframe tbody tr th {\n",
       "        vertical-align: top;\n",
       "    }\n",
       "\n",
       "    .dataframe thead th {\n",
       "        text-align: right;\n",
       "    }\n",
       "</style>\n",
       "<table border=\"1\" class=\"dataframe\">\n",
       "  <thead>\n",
       "    <tr style=\"text-align: right;\">\n",
       "      <th></th>\n",
       "      <th>Country Name</th>\n",
       "      <th>Country Code</th>\n",
       "      <th>Indicator Name</th>\n",
       "      <th>Indicator Code</th>\n",
       "      <th>1960</th>\n",
       "      <th>1961</th>\n",
       "      <th>1962</th>\n",
       "      <th>1963</th>\n",
       "      <th>1964</th>\n",
       "      <th>1965</th>\n",
       "      <th>...</th>\n",
       "      <th>2009</th>\n",
       "      <th>2010</th>\n",
       "      <th>2011</th>\n",
       "      <th>2012</th>\n",
       "      <th>2013</th>\n",
       "      <th>2014</th>\n",
       "      <th>2015</th>\n",
       "      <th>2016</th>\n",
       "      <th>2017</th>\n",
       "      <th>2018</th>\n",
       "    </tr>\n",
       "  </thead>\n",
       "  <tbody>\n",
       "    <tr>\n",
       "      <th>107</th>\n",
       "      <td>India</td>\n",
       "      <td>IND</td>\n",
       "      <td>Population, total</td>\n",
       "      <td>SP.POP.TOTL</td>\n",
       "      <td>450547679.0</td>\n",
       "      <td>459642165.0</td>\n",
       "      <td>469077190.0</td>\n",
       "      <td>478825608.0</td>\n",
       "      <td>488848135.0</td>\n",
       "      <td>499123324.0</td>\n",
       "      <td>...</td>\n",
       "      <td>1.217726e+09</td>\n",
       "      <td>1.234281e+09</td>\n",
       "      <td>1.250289e+09</td>\n",
       "      <td>1.265783e+09</td>\n",
       "      <td>1.280846e+09</td>\n",
       "      <td>1.295604e+09</td>\n",
       "      <td>1.310152e+09</td>\n",
       "      <td>1.324510e+09</td>\n",
       "      <td>1.338659e+09</td>\n",
       "      <td>1.352617e+09</td>\n",
       "    </tr>\n",
       "  </tbody>\n",
       "</table>\n",
       "<p>1 rows × 63 columns</p>\n",
       "</div>"
      ],
      "text/plain": [
       "    Country Name Country Code     Indicator Name Indicator Code         1960  \\\n",
       "107        India          IND  Population, total    SP.POP.TOTL  450547679.0   \n",
       "\n",
       "            1961         1962         1963         1964         1965  \\\n",
       "107  459642165.0  469077190.0  478825608.0  488848135.0  499123324.0   \n",
       "\n",
       "         ...               2009          2010          2011          2012  \\\n",
       "107      ...       1.217726e+09  1.234281e+09  1.250289e+09  1.265783e+09   \n",
       "\n",
       "             2013          2014          2015          2016          2017  \\\n",
       "107  1.280846e+09  1.295604e+09  1.310152e+09  1.324510e+09  1.338659e+09   \n",
       "\n",
       "             2018  \n",
       "107  1.352617e+09  \n",
       "\n",
       "[1 rows x 63 columns]"
      ]
     },
     "execution_count": 9,
     "metadata": {},
     "output_type": "execute_result"
    }
   ],
   "source": [
    "df_india.head()"
   ]
  },
  {
   "cell_type": "markdown",
   "metadata": {},
   "source": [
    "## In above lines, we acquired Indian population row, we have to drop unnecessary columns\n",
    "## Drop Country Name, Country Code, Indicator Name, Indicator Code since we know that this data is for population and India only"
   ]
  },
  {
   "cell_type": "code",
   "execution_count": 10,
   "metadata": {},
   "outputs": [],
   "source": [
    "df_india=df_india.drop(['Country Name', 'Country Code', 'Indicator Name', 'Indicator Code'], axis=1)"
   ]
  },
  {
   "cell_type": "code",
   "execution_count": 11,
   "metadata": {},
   "outputs": [
    {
     "data": {
      "text/html": [
       "<div>\n",
       "<style scoped>\n",
       "    .dataframe tbody tr th:only-of-type {\n",
       "        vertical-align: middle;\n",
       "    }\n",
       "\n",
       "    .dataframe tbody tr th {\n",
       "        vertical-align: top;\n",
       "    }\n",
       "\n",
       "    .dataframe thead th {\n",
       "        text-align: right;\n",
       "    }\n",
       "</style>\n",
       "<table border=\"1\" class=\"dataframe\">\n",
       "  <thead>\n",
       "    <tr style=\"text-align: right;\">\n",
       "      <th></th>\n",
       "      <th>1960</th>\n",
       "      <th>1961</th>\n",
       "      <th>1962</th>\n",
       "      <th>1963</th>\n",
       "      <th>1964</th>\n",
       "      <th>1965</th>\n",
       "      <th>1966</th>\n",
       "      <th>1967</th>\n",
       "      <th>1968</th>\n",
       "      <th>1969</th>\n",
       "      <th>...</th>\n",
       "      <th>2009</th>\n",
       "      <th>2010</th>\n",
       "      <th>2011</th>\n",
       "      <th>2012</th>\n",
       "      <th>2013</th>\n",
       "      <th>2014</th>\n",
       "      <th>2015</th>\n",
       "      <th>2016</th>\n",
       "      <th>2017</th>\n",
       "      <th>2018</th>\n",
       "    </tr>\n",
       "  </thead>\n",
       "  <tbody>\n",
       "    <tr>\n",
       "      <th>107</th>\n",
       "      <td>450547679.0</td>\n",
       "      <td>459642165.0</td>\n",
       "      <td>469077190.0</td>\n",
       "      <td>478825608.0</td>\n",
       "      <td>488848135.0</td>\n",
       "      <td>499123324.0</td>\n",
       "      <td>509631500.0</td>\n",
       "      <td>520400576.0</td>\n",
       "      <td>531513824.0</td>\n",
       "      <td>543084336.0</td>\n",
       "      <td>...</td>\n",
       "      <td>1.217726e+09</td>\n",
       "      <td>1.234281e+09</td>\n",
       "      <td>1.250289e+09</td>\n",
       "      <td>1.265783e+09</td>\n",
       "      <td>1.280846e+09</td>\n",
       "      <td>1.295604e+09</td>\n",
       "      <td>1.310152e+09</td>\n",
       "      <td>1.324510e+09</td>\n",
       "      <td>1.338659e+09</td>\n",
       "      <td>1.352617e+09</td>\n",
       "    </tr>\n",
       "  </tbody>\n",
       "</table>\n",
       "<p>1 rows × 59 columns</p>\n",
       "</div>"
      ],
      "text/plain": [
       "            1960         1961         1962         1963         1964  \\\n",
       "107  450547679.0  459642165.0  469077190.0  478825608.0  488848135.0   \n",
       "\n",
       "            1965         1966         1967         1968         1969  \\\n",
       "107  499123324.0  509631500.0  520400576.0  531513824.0  543084336.0   \n",
       "\n",
       "         ...               2009          2010          2011          2012  \\\n",
       "107      ...       1.217726e+09  1.234281e+09  1.250289e+09  1.265783e+09   \n",
       "\n",
       "             2013          2014          2015          2016          2017  \\\n",
       "107  1.280846e+09  1.295604e+09  1.310152e+09  1.324510e+09  1.338659e+09   \n",
       "\n",
       "             2018  \n",
       "107  1.352617e+09  \n",
       "\n",
       "[1 rows x 59 columns]"
      ]
     },
     "execution_count": 11,
     "metadata": {},
     "output_type": "execute_result"
    }
   ],
   "source": [
    "df_india.head()"
   ]
  },
  {
   "cell_type": "markdown",
   "metadata": {},
   "source": [
    "## Now melt the dataframe result for India, flip the single row with columns into multiple rows"
   ]
  },
  {
   "cell_type": "code",
   "execution_count": 19,
   "metadata": {},
   "outputs": [],
   "source": [
    "df_india_flipped = df_india.melt(value_vars=df_india.columns.tolist(), var_name='Year', value_name='Population')"
   ]
  },
  {
   "cell_type": "markdown",
   "metadata": {},
   "source": [
    "## df.melt is used to flip data, value_vars is data to be used as values, where column becomes key and value of columns becomes value, var_name is name of variable, value_name is name of variable's value column"
   ]
  },
  {
   "cell_type": "code",
   "execution_count": 20,
   "metadata": {},
   "outputs": [
    {
     "data": {
      "text/html": [
       "<div>\n",
       "<style scoped>\n",
       "    .dataframe tbody tr th:only-of-type {\n",
       "        vertical-align: middle;\n",
       "    }\n",
       "\n",
       "    .dataframe tbody tr th {\n",
       "        vertical-align: top;\n",
       "    }\n",
       "\n",
       "    .dataframe thead th {\n",
       "        text-align: right;\n",
       "    }\n",
       "</style>\n",
       "<table border=\"1\" class=\"dataframe\">\n",
       "  <thead>\n",
       "    <tr style=\"text-align: right;\">\n",
       "      <th></th>\n",
       "      <th>Year</th>\n",
       "      <th>Population</th>\n",
       "    </tr>\n",
       "  </thead>\n",
       "  <tbody>\n",
       "    <tr>\n",
       "      <th>0</th>\n",
       "      <td>1960</td>\n",
       "      <td>450547679.0</td>\n",
       "    </tr>\n",
       "    <tr>\n",
       "      <th>1</th>\n",
       "      <td>1961</td>\n",
       "      <td>459642165.0</td>\n",
       "    </tr>\n",
       "    <tr>\n",
       "      <th>2</th>\n",
       "      <td>1962</td>\n",
       "      <td>469077190.0</td>\n",
       "    </tr>\n",
       "    <tr>\n",
       "      <th>3</th>\n",
       "      <td>1963</td>\n",
       "      <td>478825608.0</td>\n",
       "    </tr>\n",
       "    <tr>\n",
       "      <th>4</th>\n",
       "      <td>1964</td>\n",
       "      <td>488848135.0</td>\n",
       "    </tr>\n",
       "  </tbody>\n",
       "</table>\n",
       "</div>"
      ],
      "text/plain": [
       "   Year   Population\n",
       "0  1960  450547679.0\n",
       "1  1961  459642165.0\n",
       "2  1962  469077190.0\n",
       "3  1963  478825608.0\n",
       "4  1964  488848135.0"
      ]
     },
     "execution_count": 20,
     "metadata": {},
     "output_type": "execute_result"
    }
   ],
   "source": [
    "df_india_flipped.head()"
   ]
  },
  {
   "cell_type": "code",
   "execution_count": 23,
   "metadata": {},
   "outputs": [
    {
     "data": {
      "text/plain": [
       "array([[<matplotlib.axes._subplots.AxesSubplot object at 0x0000026944217390>]],\n",
       "      dtype=object)"
      ]
     },
     "execution_count": 23,
     "metadata": {},
     "output_type": "execute_result"
    },
    {
     "data": {
      "image/png": "[encoded data removed]",
      "text/plain": [
       "<Figure size 432x288 with 1 Axes>"
      ]
     },
     "metadata": {},
     "output_type": "display_data"
    }
   ],
   "source": [
    "# to find distribution of population\n",
    "df_india_flipped.hist(bins=30)"
   ]
  },
  {
   "cell_type": "code",
   "execution_count": 58,
   "metadata": {},
   "outputs": [
    {
     "data": {
      "image/png": "[encoded data removed]",
      "text/plain": [
       "<Figure size 1440x720 with 1 Axes>"
      ]
     },
     "metadata": {},
     "output_type": "display_data"
    }
   ],
   "source": [
    "axes1= df_india_flipped.plot(figsize=(20, 10))\n",
    "_=axes1.set_xlabel('Year')\n",
    "_=axes1.set_ylabel('Population')\n",
    "_=axes1.set_xticks(df_india_flipped.index)\n",
    "_=axes1.set_xticklabels(df_india_flipped.Year, rotation=60)"
   ]
  },
  {
   "cell_type": "code",
   "execution_count": 59,
   "metadata": {},
   "outputs": [],
   "source": [
    "n=len(df_india_flipped.Population)\n",
    "x, y=np.sort(df_india_flipped.Population), np.arange(1, n+1)/n"
   ]
  },
  {
   "cell_type": "code",
   "execution_count": 60,
   "metadata": {},
   "outputs": [
    {
     "name": "stdout",
     "output_type": "stream",
     "text": [
      "[4.50547679e+08 4.59642165e+08 4.69077190e+08 4.78825608e+08\n",
      " 4.88848135e+08 4.99123324e+08 5.09631500e+08 5.20400576e+08\n",
      " 5.31513824e+08 5.43084336e+08 5.55189792e+08 5.67868018e+08\n",
      " 5.81087256e+08 5.94770134e+08 6.08802600e+08 6.23102897e+08\n",
      " 6.37630087e+08 6.52408776e+08 6.67499806e+08 6.82995354e+08\n",
      " 6.98952844e+08 7.15384993e+08 7.32239504e+08 7.49428958e+08\n",
      " 7.66833410e+08 7.84360008e+08 8.01975244e+08 8.19682102e+08\n",
      " 8.37468930e+08 8.55334678e+08 8.73277798e+08 8.91273209e+08\n",
      " 9.09307016e+08 9.27403860e+08 9.45601831e+08 9.63922588e+08\n",
      " 9.82365243e+08 1.00090003e+09 1.01948358e+09 1.03805816e+09\n",
      " 1.05657555e+09 1.07500008e+09 1.09331719e+09 1.11152314e+09\n",
      " 1.12962346e+09 1.14760993e+09 1.16548629e+09 1.18320947e+09\n",
      " 1.20066976e+09 1.21772622e+09 1.23428117e+09 1.25028873e+09\n",
      " 1.26578279e+09 1.28084613e+09 1.29560418e+09 1.31015240e+09\n",
      " 1.32450959e+09 1.33865884e+09 1.35261733e+09] [0.01694915 0.03389831 0.05084746 0.06779661 0.08474576 0.10169492\n",
      " 0.11864407 0.13559322 0.15254237 0.16949153 0.18644068 0.20338983\n",
      " 0.22033898 0.23728814 0.25423729 0.27118644 0.28813559 0.30508475\n",
      " 0.3220339  0.33898305 0.3559322  0.37288136 0.38983051 0.40677966\n",
      " 0.42372881 0.44067797 0.45762712 0.47457627 0.49152542 0.50847458\n",
      " 0.52542373 0.54237288 0.55932203 0.57627119 0.59322034 0.61016949\n",
      " 0.62711864 0.6440678  0.66101695 0.6779661  0.69491525 0.71186441\n",
      " 0.72881356 0.74576271 0.76271186 0.77966102 0.79661017 0.81355932\n",
      " 0.83050847 0.84745763 0.86440678 0.88135593 0.89830508 0.91525424\n",
      " 0.93220339 0.94915254 0.96610169 0.98305085 1.        ]\n"
     ]
    }
   ],
   "source": [
    "print(x, y)"
   ]
  },
  {
   "cell_type": "code",
   "execution_count": 62,
   "metadata": {},
   "outputs": [
    {
     "data": {
      "image/png": "[encoded data removed]",
      "text/plain": [
       "<Figure size 432x288 with 1 Axes>"
      ]
     },
     "metadata": {},
     "output_type": "display_data"
    }
   ],
   "source": [
    "plt.plot(x, y, marker='.', linestyle='none')\n",
    "plt.title('ECDF')\n",
    "plt.show()"
   ]
  },
  {
   "cell_type": "code",
   "execution_count": null,
   "metadata": {},
   "outputs": [],
   "source": []
  }
 ],
 "metadata": {
  "kernelspec": {
   "display_name": "Python 3",
   "language": "python",
   "name": "python3"
  },
  "language_info": {
   "codemirror_mode": {
    "name": "ipython",
    "version": 3
   },
   "file_extension": ".py",
   "mimetype": "text/x-python",
   "name": "python",
   "nbconvert_exporter": "python",
   "pygments_lexer": "ipython3",
   "version": "3.6.5"
  }
 },
 "nbformat": 4,
 "nbformat_minor": 2
}
